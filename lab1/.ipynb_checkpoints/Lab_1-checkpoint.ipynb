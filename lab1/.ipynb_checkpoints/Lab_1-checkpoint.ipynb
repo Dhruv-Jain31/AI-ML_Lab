{
 "cells": [
  {
   "cell_type": "markdown",
   "id": "4cf2e825-f35a-4e3a-8ec8-2a50d6605b0f",
   "metadata": {},
   "source": [
    "<b>Q1. Write a python program to perform basic arithmetic operations (addition, subtraction, multiplication, division, and modulus) on two numbers. </b>"
   ]
  },
  {
   "cell_type": "code",
   "execution_count": 7,
   "id": "89511132-8ab4-4119-ad2e-cd8da1c33233",
   "metadata": {},
   "outputs": [
    {
     "name": "stdin",
     "output_type": "stream",
     "text": [
      "enter the num 1:  31\n",
      "enter the num 2 :  25\n"
     ]
    },
    {
     "name": "stdout",
     "output_type": "stream",
     "text": [
      "addition: 31.0+25.0=56.0\n",
      "susbstraction 31.0-25.0=6.0\n",
      "multiplication: 31.0*25.0=775.0\n",
      "division: 31.0/25.0=1.24\n",
      "modulus: 31.0%25.0=6.0\n"
     ]
    }
   ],
   "source": [
    "num1 = float(input(\"enter the num 1: \"))\n",
    "num2 = float(input(\"enter the num 2 : \"))\n",
    "\n",
    "#Perform the arithmetic operations and print the results.(Use appropriate operators and print formatting for clear output).\n",
    "addition = num1+num2\n",
    "substraction = num1-num2\n",
    "multiplication = num1*num2\n",
    "division = num1/num2\n",
    "modulus = num1%num2\n",
    "print(f\"addition: {num1}+{num2}={addition}\")\n",
    "print(f\"susbstraction {num1}-{num2}={substraction}\")\n",
    "print(f\"multiplication: {num1}*{num2}={multiplication}\")\n",
    "print(f\"division: {num1}/{num2}={division}\")\n",
    "print(f\"modulus: {num1}%{num2}={modulus}\")"
   ]
  },
  {
   "cell_type": "markdown",
   "id": "67a2e542-1be6-4504-8438-312dc146179c",
   "metadata": {},
   "source": [
    "<b>Q2. Create variables of different data types (integer, float, string, boolean) and perform basic\n",
    "operations on them.</b?"
   ]
  },
  {
   "cell_type": "code",
   "execution_count": 14,
   "id": "96887ca3-badb-4263-8fdb-fae72312c611",
   "metadata": {},
   "outputs": [
    {
     "name": "stdout",
     "output_type": "stream",
     "text": [
      "Hello World !! \n",
      "False\n",
      "True\n",
      "False\n"
     ]
    }
   ],
   "source": [
    "#Assign values to variables of different data types.\n",
    "interger=10\n",
    "float=50\n",
    "string=\"Hello \"\n",
    "boolean=True\n",
    "\n",
    "#Perform arithmetic operations on numeric data types.\n",
    "addition=interger+float\n",
    "substraction=interger-float\n",
    "multiplication=interger*float\n",
    "division=interger/float\n",
    "modulus=interger%float\n",
    "addition: 60\n",
    "substraction: -40\n",
    "multiplication: 500\n",
    "division: 0.2\n",
    "modulus: 10\n",
    "\n",
    "#Concatenate strings using the + operator.\n",
    "concatenated_string=string+\"World !! \"\n",
    "print(concatenated_string)\n",
    "\n",
    "#Use logical operators to evaluate boolean expressions.\n",
    "andop=boolean and False\n",
    "orop=boolean or False\n",
    "notop= not boolean\n",
    "print(andop)\n",
    "print(orop)\n",
    "print(notop)"
   ]
  },
  {
   "cell_type": "markdown",
   "id": "19a6d9c0-b72e-421e-9636-b0558b41863a",
   "metadata": {},
   "source": [
    "<b>Q3. Write a program to take user input, process it, and display the result.</b>"
   ]
  },
  {
   "cell_type": "code",
   "execution_count": 17,
   "id": "895a7be6-7881-4945-8087-bec6853c41f6",
   "metadata": {},
   "outputs": [
    {
     "name": "stdin",
     "output_type": "stream",
     "text": [
      "enter you name here: Dhruv\n"
     ]
    },
    {
     "name": "stdout",
     "output_type": "stream",
     "text": [
      "Hello, Dhruv Nice to meet you !! \n"
     ]
    },
    {
     "name": "stdin",
     "output_type": "stream",
     "text": [
      "Enter your year of birth ..??  2003\n"
     ]
    },
    {
     "name": "stdout",
     "output_type": "stream",
     "text": [
      "cuurenly your age is :- 21\n"
     ]
    }
   ],
   "source": [
    "#Prompt the user to enter their name.\n",
    "name=input(\"enter you name here:\")\n",
    "\n",
    "#Greet the user using their name.\n",
    "greet=(f\"Hello, {name} Nice to meet you !! \")\n",
    "print(greet)\n",
    "\n",
    "#Calculate and print the user's age based on their birth year.\n",
    "dob=int(input(\"Enter your year of birth ..?? \"))\n",
    "age=2024-dob\n",
    "print(f\"cuurenly your age is :- {age}\")"
   ]
  },
  {
   "cell_type": "markdown",
   "id": "f1a511a2-5f83-4f8f-823d-b69a3028f2a5",
   "metadata": {},
   "source": [
    "<b>Q4. Write a program to check if a number is even or odd.</b>"
   ]
  },
  {
   "cell_type": "code",
   "execution_count": 19,
   "id": "2ce14148-3039-4af7-bada-2ea7063789ad",
   "metadata": {},
   "outputs": [
    {
     "name": "stdin",
     "output_type": "stream",
     "text": [
      "Enter the number you want to get checked ..??  31\n"
     ]
    },
    {
     "name": "stdout",
     "output_type": "stream",
     "text": [
      "given number is odd\n"
     ]
    }
   ],
   "source": [
    "#Prompt the user to enter a number.\n",
    "number=int(input(\"Enter the number you want to get checked ..?? \"))\n",
    "\n",
    "#Use the modulus operator to determine if the number is even or odd.\n",
    "if(number%2) == 0:\n",
    "    print(\"given number is even\")\n",
    "else:\n",
    "    print(\"given number is odd\")"
   ]
  },
  {
   "cell_type": "markdown",
   "id": "4c2ff2bf-adec-4563-9ca9-106efd900ba8",
   "metadata": {},
   "source": [
    "<b>Q5. Write a program to print the numbers from 1 to 10 using both for and while loops. </b>"
   ]
  },
  {
   "cell_type": "code",
   "execution_count": 24,
   "id": "f62087c6-fa54-4983-aadd-5a6dfbb2e90f",
   "metadata": {},
   "outputs": [
    {
     "name": "stdout",
     "output_type": "stream",
     "text": [
      "1\n",
      "2\n",
      "3\n",
      "4\n",
      "5\n",
      "6\n",
      "7\n",
      "8\n",
      "9\n",
      "10\n",
      "---------------------------------------------\n",
      "0\n",
      "1\n",
      "2\n",
      "3\n",
      "4\n",
      "5\n",
      "6\n",
      "7\n",
      "8\n",
      "9\n",
      "10\n"
     ]
    }
   ],
   "source": [
    "#User for loop to iterate through a range of numbers.\n",
    "for i in range(1,11):\n",
    "    print(i)\n",
    "\n",
    "print(\"---------------------------------------------\")\n",
    "#use a while loop with a counter variable\n",
    "counter = 0\n",
    "while(counter < 11):\n",
    "    print(counter)\n",
    "    counter+=1"
   ]
  },
  {
   "cell_type": "markdown",
   "id": "7fb72f2c-8d2d-477c-a102-2ce92f601cd8",
   "metadata": {},
   "source": [
    "<b>Q6. Create a list, access elements, modify elements, and perform list operations.</b>"
   ]
  },
  {
   "cell_type": "code",
   "execution_count": 25,
   "id": "0f8e74f3-3441-4546-af98-d25ec334822c",
   "metadata": {},
   "outputs": [
    {
     "name": "stdout",
     "output_type": "stream",
     "text": [
      "Accessing elements using indexing:\n"
     ]
    }
   ],
   "source": [
    "#Create a list of fruits.\n",
    "fruits = [\"Apple\", \"Banana\", \"Cherry\", \"Date\", \"Orange\"]\n",
    "print(\"Accessing elements using indexing:\")"
   ]
  }
 ],
 "metadata": {
  "kernelspec": {
   "display_name": "Python 3 (ipykernel)",
   "language": "python",
   "name": "python3"
  },
  "language_info": {
   "codemirror_mode": {
    "name": "ipython",
    "version": 3
   },
   "file_extension": ".py",
   "mimetype": "text/x-python",
   "name": "python",
   "nbconvert_exporter": "python",
   "pygments_lexer": "ipython3",
   "version": "3.11.5"
  }
 },
 "nbformat": 4,
 "nbformat_minor": 5
}
