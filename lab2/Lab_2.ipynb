{
 "cells": [
  {
   "cell_type": "markdown",
   "metadata": {},
   "source": [
    "<b>Q1.  Create and access tuples.</b>\n",
    "<div>o\tCreate a tuple of colors.</div>\n",
    "<div>o\tAccess elements using indexing.</div>\n",
    "<div>o\tTry to modify an element in the tuple (to demonstrate immutability).</div>\n",
    "<div>o\tFind the number of occurrences of a specific element in the tuple.</div>\n"
   ]
  },
  {
   "cell_type": "code",
   "execution_count": null,
   "metadata": {},
   "outputs": [
    {
     "name": "stdout",
     "output_type": "stream",
     "text": [
      "First color blue\n",
      "Last color pink\n",
      "count of pink colour is:2\n"
     ]
    },
    {
     "ename": "TypeError",
     "evalue": "'tuple' object does not support item assignment",
     "output_type": "error",
     "traceback": [
      "\u001b[1;31m---------------------------------------------------------------------------\u001b[0m",
      "\u001b[1;31mTypeError\u001b[0m                                 Traceback (most recent call last)",
      "Cell \u001b[1;32mIn[4], line 6\u001b[0m\n\u001b[0;32m      4\u001b[0m pink_count \u001b[38;5;241m=\u001b[39m colors\u001b[38;5;241m.\u001b[39mcount(\u001b[38;5;124m\"\u001b[39m\u001b[38;5;124mpink\u001b[39m\u001b[38;5;124m\"\u001b[39m)\n\u001b[0;32m      5\u001b[0m \u001b[38;5;28mprint\u001b[39m(\u001b[38;5;124mf\u001b[39m\u001b[38;5;124m\"\u001b[39m\u001b[38;5;124mcount of pink colour is:\u001b[39m\u001b[38;5;132;01m{\u001b[39;00mpink_count\u001b[38;5;132;01m}\u001b[39;00m\u001b[38;5;124m\"\u001b[39m)\n\u001b[1;32m----> 6\u001b[0m \u001b[43mcolors\u001b[49m\u001b[43m[\u001b[49m\u001b[38;5;241;43m0\u001b[39;49m\u001b[43m]\u001b[49m \u001b[38;5;241m=\u001b[39m \u001b[38;5;124m\"\u001b[39m\u001b[38;5;124mblack\u001b[39m\u001b[38;5;124m\"\u001b[39m\n",
      "\u001b[1;31mTypeError\u001b[0m: 'tuple' object does not support item assignment"
     ]
    }
   ],
   "source": [
    "colors = (\"blue\",\"green\",\"pink\",\"red\",\"yellow\",\"red\",\"pink\")\n",
    "print(\"First color\",colors[0])\n",
    "print(\"Last color\",colors[-1])\n",
    "pink_count = colors.count(\"pink\")\n",
    "print(f\"count of pink colour is:{pink_count}\")\n",
    "colors[0] = \"black\" #will raise a type error to show that tuple are immutable\n",
    "\n"
   ]
  },
  {
   "cell_type": "markdown",
   "metadata": {},
   "source": [
    "<b>Q2.  Create and manipulate dictionaries.</b>\n",
    "<div>o\tCreate a dictionary to store information about a person (name, age, city).</div>\n",
    "<div>o\tAccess values using keys.</div>\n",
    "<div>o\tAdd a new key-value pair to the dictionary.</div>\n",
    "<div>o\tModify an existing value.</div>\n",
    "<div>o\tCheck if a key exists in the dictionary.</div>\n",
    "<div>o\tGet a list of all keys and values.</div>\n"
   ]
  },
  {
   "cell_type": "code",
   "execution_count": 5,
   "metadata": {},
   "outputs": [
    {
     "name": "stdout",
     "output_type": "stream",
     "text": [
      "Name: Dhruv\n",
      "Age: 22\n",
      "City: Saharanpur\n",
      "Updated dict with person's email: dhruv.jain@gmail.com\n",
      "Updated person's age: 21\n",
      "Key 'name' exists in dict: Dhruv\n",
      "Keys: ['name', 'age', 'city', 'email']\n",
      "Values: ['Dhruv', 21, 'Saharanpur', 'dhruv.jain@gmail.com']\n"
     ]
    }
   ],
   "source": [
    "person = {\n",
    "    \"name\": \"Dhruv\",\n",
    "    \"age\": 22,\n",
    "    \"city\": \"Saharanpur\"\n",
    "}\n",
    "print(\"Name:\", person[\"name\"])\n",
    "print(\"Age:\", person[\"age\"])\n",
    "print(\"City:\", person[\"city\"])\n",
    "\n",
    "# Adding a new key-value pair to the dictionary\n",
    "person[\"email\"] = \"dhruv.jain@gmail.com\"\n",
    "print(\"Updated dict with person's email:\", person[\"email\"])\n",
    "\n",
    "# Updating the age\n",
    "person[\"age\"] = 21\n",
    "print(\"Updated person's age:\", person[\"age\"])\n",
    "\n",
    "# Checking if the key 'name' exists\n",
    "if \"name\" in person:\n",
    "    print(f\"Key 'name' exists in dict: {person['name']}\")\n",
    "\n",
    "keys = person.keys()\n",
    "values = person.values()\n",
    "print(\"Keys:\", list(keys))\n",
    "print(\"Values:\", list(values))\n"
   ]
  },
  {
   "cell_type": "markdown",
   "metadata": {},
   "source": [
    "<b>Q3. Demonstrate the difference between mutable and immutable data types. </b>\n",
    "<div>o\tCreate a list and a tuple.</div>\n",
    "<div>o\tTry to modify an element in both the list and the tuple.</div>\n",
    "<div>o\tObserve the results and explain the difference.</div>\n"
   ]
  },
  {
   "cell_type": "code",
   "execution_count": 6,
   "metadata": {},
   "outputs": [
    {
     "name": "stdout",
     "output_type": "stream",
     "text": [
      "Modified list: [1, 2, 10, 4, 5]\n",
      "Error: 'tuple' object does not support item assignment\n",
      "Original tuple: (1, 2, 3, 4, 5)\n"
     ]
    }
   ],
   "source": [
    "my_list = [1, 2, 3, 4, 5]\n",
    "my_tuple = (1, 2, 3, 4, 5)\n",
    "my_list[2] = 10\n",
    "print(\"Modified list:\", my_list)\n",
    "try:\n",
    "    my_tuple[2] = 10\n",
    "except TypeError as e:\n",
    "    print(\"Error:\", e)\n",
    "print(\"Original tuple:\", my_tuple)\n"
   ]
  },
  {
   "cell_type": "markdown",
   "metadata": {},
   "source": [
    "<b>Q4. Create a program to print the multiplication table of a number.</b>\n",
    "<div>o\tTake a number as input from the user.</div>\n",
    "<div>o\tUse a for loop to iterate from 1 to 10.</div>\n",
    "<div>o\tCalculate the product of the input number and the current iteration.</div>\n",
    "<div>o\tPrint the multiplication table.</div>\n"
   ]
  },
  {
   "cell_type": "code",
   "execution_count": 8,
   "metadata": {},
   "outputs": [
    {
     "name": "stdout",
     "output_type": "stream",
     "text": [
      "25 * 1 = 25\n",
      "25 * 2 = 50\n",
      "25 * 3 = 75\n",
      "25 * 4 = 100\n",
      "25 * 5 = 125\n",
      "25 * 6 = 150\n",
      "25 * 7 = 175\n",
      "25 * 8 = 200\n",
      "25 * 9 = 225\n",
      "25 * 10 = 250\n"
     ]
    }
   ],
   "source": [
    "number = int(input(\"enter the number for it's multiplication table\"))\n",
    "for i in range(1,11):\n",
    "    product = number * i\n",
    "    print(f'{number} * {i} = {product}')\n"
   ]
  },
  {
   "cell_type": "markdown",
   "metadata": {},
   "source": [
    "<b>Q5. Create a program to find the factorial of a number using a loop and conditional statements.</b>"
   ]
  },
  {
   "cell_type": "code",
   "execution_count": 11,
   "metadata": {},
   "outputs": [
    {
     "data": {
      "text/plain": [
       "720"
      ]
     },
     "execution_count": 11,
     "metadata": {},
     "output_type": "execute_result"
    }
   ],
   "source": [
    "def factorial_of_number(number):\n",
    "    if number < 0:\n",
    "        return \"factorial is not defined for negative numbers\"\n",
    "    elif number == 0:\n",
    "        return \"factorial of 0 is 1\"\n",
    "    else:\n",
    "        product = 1\n",
    "        for i in range(1,number+1):\n",
    "            product = product * i\n",
    "        return product\n",
    "\n",
    "fact = int(input(\"input the number whose fact is to be calculated\"))\n",
    "factorial_of_number(fact)"
   ]
  },
  {
   "cell_type": "markdown",
   "metadata": {},
   "source": [
    "<b>Q6. Implement a basic calculator.</b>"
   ]
  },
  {
   "cell_type": "code",
   "execution_count": 12,
   "metadata": {},
   "outputs": [
    {
     "name": "stdout",
     "output_type": "stream",
     "text": [
      "Choose an operation:\n",
      "1. Addition (+)\n",
      "2. Subtraction (-)\n",
      "3. Multiplication (*)\n",
      "4. Division (/)\n",
      "5. Modulus (%)\n",
      "6. Exit\n",
      "Invalid choice. Please select a valid operation.\n",
      "Choose an operation:\n",
      "1. Addition (+)\n",
      "2. Subtraction (-)\n",
      "3. Multiplication (*)\n",
      "4. Division (/)\n",
      "5. Modulus (%)\n",
      "6. Exit\n",
      "The result of 6.0 * 8.0 is 48.0\n",
      "Choose an operation:\n",
      "1. Addition (+)\n",
      "2. Subtraction (-)\n",
      "3. Multiplication (*)\n",
      "4. Division (/)\n",
      "5. Modulus (%)\n",
      "6. Exit\n",
      "The result of 7.9 / 9.9 is 0.797979797979798\n",
      "Choose an operation:\n",
      "1. Addition (+)\n",
      "2. Subtraction (-)\n",
      "3. Multiplication (*)\n",
      "4. Division (/)\n",
      "5. Modulus (%)\n",
      "6. Exit\n",
      "Exiting the calculator. Goodbye!\n"
     ]
    }
   ],
   "source": [
    "while True:\n",
    "    # Taking input\n",
    "    num1 = float(input(\"Enter the first number: \"))\n",
    "    num2 = float(input(\"Enter the second number: \"))\n",
    "    print(\"Choose an operation:\")\n",
    "    print(\"1. Addition (+)\")\n",
    "    print(\"2. Subtraction (-)\")\n",
    "    print(\"3. Multiplication (*)\")\n",
    "    print(\"4. Division (/)\")\n",
    "    print(\"5. Modulus (%)\")\n",
    "    print(\"6. Exit\")\n",
    "\n",
    "    # Getting user's choice\n",
    "    choice = input(\"Enter your choice: \")\n",
    "\n",
    "    # Using match-case for operations\n",
    "    match choice:\n",
    "        case '1':\n",
    "            print(f\"The result of {num1} + {num2} is {num1 + num2}\")\n",
    "        case '2':\n",
    "            print(f\"The result of {num1} - {num2} is {num1 - num2}\")\n",
    "        case '3':\n",
    "            print(f\"The result of {num1} * {num2} is {num1 * num2}\")\n",
    "        case '4':\n",
    "            if num2 != 0:\n",
    "                print(f\"The result of {num1} / {num2} is {num1 / num2}\")\n",
    "            else:\n",
    "                print(\"Error: Division by zero is undefined.\")\n",
    "        case '5':\n",
    "            if num2 != 0:\n",
    "                print(f\"The result of {num1} % {num2} is {num1 % num2}\")\n",
    "            else:\n",
    "                print(\"Error: Modulus by zero is undefined.\")\n",
    "        case '6':\n",
    "            print(\"Exiting the calculator. Goodbye!\")\n",
    "            break\n",
    "        case _:\n",
    "            print(\"Invalid choice. Please select a valid operation.\")\n"
   ]
  },
  {
   "cell_type": "markdown",
   "metadata": {},
   "source": [
    "<b>Q7. Create a program to find the sum of all even numbers between 1 and 100.</b>"
   ]
  },
  {
   "cell_type": "code",
   "execution_count": 13,
   "metadata": {},
   "outputs": [
    {
     "name": "stdout",
     "output_type": "stream",
     "text": [
      "Sum of even numbers from 1 to 100 is 2550\n"
     ]
    }
   ],
   "source": [
    "even_sum = 0\n",
    "for i in range(1,101):\n",
    "    if i%2 == 0:\n",
    "        even_sum = even_sum + i\n",
    "print('Sum of even numbers from 1 to 100 is',even_sum)"
   ]
  },
  {
   "cell_type": "markdown",
   "metadata": {},
   "source": [
    "<b>Q8. Write a program to check if a given number is prime.</b>"
   ]
  },
  {
   "cell_type": "code",
   "execution_count": 14,
   "metadata": {},
   "outputs": [
    {
     "name": "stdout",
     "output_type": "stream",
     "text": [
      "7 is a prime number.\n"
     ]
    }
   ],
   "source": [
    "def is_prime(n):\n",
    "    if n <= 1:\n",
    "        return False\n",
    "    elif n == 2:\n",
    "        return True\n",
    "    elif n % 2 == 0:\n",
    "        return False\n",
    "    for i in range(3, int(n**0.5) + 1, 2):\n",
    "        if n % i == 0:\n",
    "            return False\n",
    "    return True\n",
    "number = int(input(\"Enter a number to check if it is prime: \"))\n",
    "if is_prime(number):\n",
    "    print(f\"{number} is a prime number.\")\n",
    "else:\n",
    "    print(f\"{number} is not a prime number.\")\n"
   ]
  }
 ],
 "metadata": {
  "kernelspec": {
   "display_name": "Python 3",
   "language": "python",
   "name": "python3"
  },
  "language_info": {
   "codemirror_mode": {
    "name": "ipython",
    "version": 3
   },
   "file_extension": ".py",
   "mimetype": "text/x-python",
   "name": "python",
   "nbconvert_exporter": "python",
   "pygments_lexer": "ipython3",
   "version": "3.12.1"
  }
 },
 "nbformat": 4,
 "nbformat_minor": 2
}
